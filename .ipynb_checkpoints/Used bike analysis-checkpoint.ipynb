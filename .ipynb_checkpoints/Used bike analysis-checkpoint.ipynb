{
 "cells": [
  {
   "cell_type": "code",
   "execution_count": 1,
   "metadata": {},
   "outputs": [],
   "source": [
    "import pandas as pd\n",
    "import matplotlib.pyplot as plt\n",
    "import seaborn as sns\n",
    "%matplotlib inline"
   ]
  },
  {
   "cell_type": "code",
   "execution_count": 3,
   "metadata": {},
   "outputs": [
    {
     "name": "stderr",
     "output_type": "stream",
     "text": [
      "b'Skipping line 19: expected 15 fields, saw 16\\nSkipping line 62: expected 15 fields, saw 16\\nSkipping line 74: expected 15 fields, saw 19\\nSkipping line 84: expected 15 fields, saw 17\\nSkipping line 119: expected 15 fields, saw 17\\nSkipping line 124: expected 15 fields, saw 16\\nSkipping line 153: expected 15 fields, saw 17\\nSkipping line 163: expected 15 fields, saw 17\\nSkipping line 179: expected 15 fields, saw 17\\nSkipping line 183: expected 15 fields, saw 16\\nSkipping line 184: expected 15 fields, saw 16\\nSkipping line 186: expected 15 fields, saw 16\\nSkipping line 187: expected 15 fields, saw 16\\nSkipping line 198: expected 15 fields, saw 17\\nSkipping line 216: expected 15 fields, saw 16\\nSkipping line 221: expected 15 fields, saw 16\\nSkipping line 225: expected 15 fields, saw 17\\nSkipping line 237: expected 15 fields, saw 16\\nSkipping line 256: expected 15 fields, saw 17\\nSkipping line 297: expected 15 fields, saw 18\\nSkipping line 311: expected 15 fields, saw 17\\nSkipping line 339: expected 15 fields, saw 19\\nSkipping line 341: expected 15 fields, saw 16\\nSkipping line 344: expected 15 fields, saw 16\\nSkipping line 396: expected 15 fields, saw 16\\nSkipping line 403: expected 15 fields, saw 18\\nSkipping line 414: expected 15 fields, saw 17\\nSkipping line 438: expected 15 fields, saw 18\\nSkipping line 443: expected 15 fields, saw 16\\nSkipping line 447: expected 15 fields, saw 16\\nSkipping line 448: expected 15 fields, saw 17\\nSkipping line 458: expected 15 fields, saw 17\\nSkipping line 489: expected 15 fields, saw 19\\nSkipping line 496: expected 15 fields, saw 16\\nSkipping line 506: expected 15 fields, saw 16\\nSkipping line 519: expected 15 fields, saw 16\\nSkipping line 526: expected 15 fields, saw 19\\nSkipping line 552: expected 15 fields, saw 16\\nSkipping line 576: expected 15 fields, saw 17\\nSkipping line 583: expected 15 fields, saw 16\\nSkipping line 602: expected 15 fields, saw 16\\nSkipping line 611: expected 15 fields, saw 17\\nSkipping line 612: expected 15 fields, saw 16\\nSkipping line 627: expected 15 fields, saw 17\\nSkipping line 631: expected 15 fields, saw 17\\nSkipping line 636: expected 15 fields, saw 18\\nSkipping line 660: expected 15 fields, saw 16\\nSkipping line 661: expected 15 fields, saw 16\\nSkipping line 685: expected 15 fields, saw 16\\nSkipping line 689: expected 15 fields, saw 16\\nSkipping line 690: expected 15 fields, saw 16\\nSkipping line 691: expected 15 fields, saw 16\\nSkipping line 692: expected 15 fields, saw 16\\nSkipping line 694: expected 15 fields, saw 16\\nSkipping line 698: expected 15 fields, saw 17\\nSkipping line 710: expected 15 fields, saw 16\\nSkipping line 711: expected 15 fields, saw 17\\nSkipping line 756: expected 15 fields, saw 16\\nSkipping line 760: expected 15 fields, saw 16\\nSkipping line 768: expected 15 fields, saw 17\\nSkipping line 781: expected 15 fields, saw 17\\nSkipping line 835: expected 15 fields, saw 16\\nSkipping line 838: expected 15 fields, saw 16\\nSkipping line 856: expected 15 fields, saw 16\\nSkipping line 857: expected 15 fields, saw 16\\nSkipping line 873: expected 15 fields, saw 16\\nSkipping line 946: expected 15 fields, saw 16\\nSkipping line 947: expected 15 fields, saw 18\\nSkipping line 964: expected 15 fields, saw 17\\nSkipping line 972: expected 15 fields, saw 16\\nSkipping line 1019: expected 15 fields, saw 17\\nSkipping line 1034: expected 15 fields, saw 18\\nSkipping line 1060: expected 15 fields, saw 16\\nSkipping line 1061: expected 15 fields, saw 16\\nSkipping line 1096: expected 15 fields, saw 17\\nSkipping line 1101: expected 15 fields, saw 16\\nSkipping line 1113: expected 15 fields, saw 16\\nSkipping line 1114: expected 15 fields, saw 19\\nSkipping line 1154: expected 15 fields, saw 16\\nSkipping line 1164: expected 15 fields, saw 16\\nSkipping line 1179: expected 15 fields, saw 19\\nSkipping line 1180: expected 15 fields, saw 17\\nSkipping line 1203: expected 15 fields, saw 16\\nSkipping line 1209: expected 15 fields, saw 16\\nSkipping line 1212: expected 15 fields, saw 20\\nSkipping line 1233: expected 15 fields, saw 16\\nSkipping line 1235: expected 15 fields, saw 18\\nSkipping line 1238: expected 15 fields, saw 16\\nSkipping line 1243: expected 15 fields, saw 16\\nSkipping line 1246: expected 15 fields, saw 16\\nSkipping line 1276: expected 15 fields, saw 23\\nSkipping line 1285: expected 15 fields, saw 16\\nSkipping line 1287: expected 15 fields, saw 17\\nSkipping line 1322: expected 15 fields, saw 16\\nSkipping line 1324: expected 15 fields, saw 17\\nSkipping line 1328: expected 15 fields, saw 18\\nSkipping line 1343: expected 15 fields, saw 17\\nSkipping line 1375: expected 15 fields, saw 16\\nSkipping line 1382: expected 15 fields, saw 16\\nSkipping line 1391: expected 15 fields, saw 18\\nSkipping line 1401: expected 15 fields, saw 16\\nSkipping line 1473: expected 15 fields, saw 18\\nSkipping line 1502: expected 15 fields, saw 17\\nSkipping line 1579: expected 15 fields, saw 19\\nSkipping line 1591: expected 15 fields, saw 17\\nSkipping line 1594: expected 15 fields, saw 16\\nSkipping line 1602: expected 15 fields, saw 16\\nSkipping line 1631: expected 15 fields, saw 17\\nSkipping line 1652: expected 15 fields, saw 18\\nSkipping line 1665: expected 15 fields, saw 16\\nSkipping line 1679: expected 15 fields, saw 16\\nSkipping line 1698: expected 15 fields, saw 16\\nSkipping line 1714: expected 15 fields, saw 16\\nSkipping line 1734: expected 15 fields, saw 16\\nSkipping line 1735: expected 15 fields, saw 18\\nSkipping line 1750: expected 15 fields, saw 17\\nSkipping line 1775: expected 15 fields, saw 16\\nSkipping line 1798: expected 15 fields, saw 17\\nSkipping line 1804: expected 15 fields, saw 17\\nSkipping line 1805: expected 15 fields, saw 16\\nSkipping line 1830: expected 15 fields, saw 16\\nSkipping line 1841: expected 15 fields, saw 16\\nSkipping line 1857: expected 15 fields, saw 16\\nSkipping line 1859: expected 15 fields, saw 16\\nSkipping line 1878: expected 15 fields, saw 17\\nSkipping line 1902: expected 15 fields, saw 16\\nSkipping line 1915: expected 15 fields, saw 16\\nSkipping line 1940: expected 15 fields, saw 23\\nSkipping line 1950: expected 15 fields, saw 18\\nSkipping line 1953: expected 15 fields, saw 16\\nSkipping line 1965: expected 15 fields, saw 17\\nSkipping line 1969: expected 15 fields, saw 17\\nSkipping line 1972: expected 15 fields, saw 16\\nSkipping line 1973: expected 15 fields, saw 17\\nSkipping line 2020: expected 15 fields, saw 16\\nSkipping line 2021: expected 15 fields, saw 17\\nSkipping line 2038: expected 15 fields, saw 16\\nSkipping line 2047: expected 15 fields, saw 19\\nSkipping line 2058: expected 15 fields, saw 16\\nSkipping line 2066: expected 15 fields, saw 16\\nSkipping line 2067: expected 15 fields, saw 16\\nSkipping line 2101: expected 15 fields, saw 17\\nSkipping line 2137: expected 15 fields, saw 16\\nSkipping line 2149: expected 15 fields, saw 16\\nSkipping line 2152: expected 15 fields, saw 16\\nSkipping line 2163: expected 15 fields, saw 16\\nSkipping line 2165: expected 15 fields, saw 16\\nSkipping line 2166: expected 15 fields, saw 16\\nSkipping line 2191: expected 15 fields, saw 17\\nSkipping line 2212: expected 15 fields, saw 16\\nSkipping line 2216: expected 15 fields, saw 16\\nSkipping line 2222: expected 15 fields, saw 16\\nSkipping line 2240: expected 15 fields, saw 16\\nSkipping line 2243: expected 15 fields, saw 16\\nSkipping line 2269: expected 15 fields, saw 16\\nSkipping line 2279: expected 15 fields, saw 16\\nSkipping line 2370: expected 15 fields, saw 16\\nSkipping line 2381: expected 15 fields, saw 17\\nSkipping line 2397: expected 15 fields, saw 16\\nSkipping line 2398: expected 15 fields, saw 18\\nSkipping line 2399: expected 15 fields, saw 17\\nSkipping line 2407: expected 15 fields, saw 18\\nSkipping line 2419: expected 15 fields, saw 16\\nSkipping line 2435: expected 15 fields, saw 16\\nSkipping line 2447: expected 15 fields, saw 17\\nSkipping line 2457: expected 15 fields, saw 17\\nSkipping line 2472: expected 15 fields, saw 16\\nSkipping line 2510: expected 15 fields, saw 16\\nSkipping line 2532: expected 15 fields, saw 16\\nSkipping line 2541: expected 15 fields, saw 19\\nSkipping line 2556: expected 15 fields, saw 17\\nSkipping line 2561: expected 15 fields, saw 17\\nSkipping line 2566: expected 15 fields, saw 16\\nSkipping line 2585: expected 15 fields, saw 23\\nSkipping line 2586: expected 15 fields, saw 19\\nSkipping line 2602: expected 15 fields, saw 17\\nSkipping line 2619: expected 15 fields, saw 24\\nSkipping line 2654: expected 15 fields, saw 17\\nSkipping line 2655: expected 15 fields, saw 16\\nSkipping line 2656: expected 15 fields, saw 19\\nSkipping line 2673: expected 15 fields, saw 16\\nSkipping line 2738: expected 15 fields, saw 16\\nSkipping line 2750: expected 15 fields, saw 16\\nSkipping line 2762: expected 15 fields, saw 17\\nSkipping line 2809: expected 15 fields, saw 16\\nSkipping line 2817: expected 15 fields, saw 16\\nSkipping line 2886: expected 15 fields, saw 16\\nSkipping line 2888: expected 15 fields, saw 18\\nSkipping line 2894: expected 15 fields, saw 16\\nSkipping line 2896: expected 15 fields, saw 16\\nSkipping line 2906: expected 15 fields, saw 17\\nSkipping line 2922: expected 15 fields, saw 16\\nSkipping line 2924: expected 15 fields, saw 17\\nSkipping line 2930: expected 15 fields, saw 16\\nSkipping line 2936: expected 15 fields, saw 17\\nSkipping line 2938: expected 15 fields, saw 16\\nSkipping line 2946: expected 15 fields, saw 16\\nSkipping line 2950: expected 15 fields, saw 18\\nSkipping line 2953: expected 15 fields, saw 20\\nSkipping line 2981: expected 15 fields, saw 19\\nSkipping line 3002: expected 15 fields, saw 17\\nSkipping line 3008: expected 15 fields, saw 18\\nSkipping line 3036: expected 15 fields, saw 16\\nSkipping line 3037: expected 15 fields, saw 16\\nSkipping line 3044: expected 15 fields, saw 17\\nSkipping line 3063: expected 15 fields, saw 17\\nSkipping line 3064: expected 15 fields, saw 20\\nSkipping line 3066: expected 15 fields, saw 16\\nSkipping line 3069: expected 15 fields, saw 16\\nSkipping line 3072: expected 15 fields, saw 16\\nSkipping line 3074: expected 15 fields, saw 17\\nSkipping line 3076: expected 15 fields, saw 18\\nSkipping line 3092: expected 15 fields, saw 16\\nSkipping line 3093: expected 15 fields, saw 17\\nSkipping line 3101: expected 15 fields, saw 17\\nSkipping line 3102: expected 15 fields, saw 16\\nSkipping line 3117: expected 15 fields, saw 22\\nSkipping line 3120: expected 15 fields, saw 17\\nSkipping line 3122: expected 15 fields, saw 16\\nSkipping line 3124: expected 15 fields, saw 17\\nSkipping line 3126: expected 15 fields, saw 16\\nSkipping line 3127: expected 15 fields, saw 19\\nSkipping line 3128: expected 15 fields, saw 16\\nSkipping line 3129: expected 15 fields, saw 16\\nSkipping line 3134: expected 15 fields, saw 17\\nSkipping line 3142: expected 15 fields, saw 18\\nSkipping line 3146: expected 15 fields, saw 17\\nSkipping line 3149: expected 15 fields, saw 16\\nSkipping line 3151: expected 15 fields, saw 17\\nSkipping line 3153: expected 15 fields, saw 19\\nSkipping line 3166: expected 15 fields, saw 16\\nSkipping line 3170: expected 15 fields, saw 18\\nSkipping line 3171: expected 15 fields, saw 16\\nSkipping line 3174: expected 15 fields, saw 17\\nSkipping line 3181: expected 15 fields, saw 16\\nSkipping line 3182: expected 15 fields, saw 20\\nSkipping line 3185: expected 15 fields, saw 17\\nSkipping line 3187: expected 15 fields, saw 26\\nSkipping line 3192: expected 15 fields, saw 21\\nSkipping line 3196: expected 15 fields, saw 16\\nSkipping line 3205: expected 15 fields, saw 17\\nSkipping line 3208: expected 15 fields, saw 21\\nSkipping line 3215: expected 15 fields, saw 16\\nSkipping line 3217: expected 15 fields, saw 16\\nSkipping line 3218: expected 15 fields, saw 16\\nSkipping line 3219: expected 15 fields, saw 20\\nSkipping line 3225: expected 15 fields, saw 16\\nSkipping line 3228: expected 15 fields, saw 17\\nSkipping line 3230: expected 15 fields, saw 21\\nSkipping line 3232: expected 15 fields, saw 16\\nSkipping line 3235: expected 15 fields, saw 19\\nSkipping line 3237: expected 15 fields, saw 16\\nSkipping line 3245: expected 15 fields, saw 19\\nSkipping line 3246: expected 15 fields, saw 17\\nSkipping line 3247: expected 15 fields, saw 17\\nSkipping line 3250: expected 15 fields, saw 16\\nSkipping line 3257: expected 15 fields, saw 17\\nSkipping line 3261: expected 15 fields, saw 18\\nSkipping line 3264: expected 15 fields, saw 18\\nSkipping line 3269: expected 15 fields, saw 16\\nSkipping line 3278: expected 15 fields, saw 16\\nSkipping line 3279: expected 15 fields, saw 18\\nSkipping line 3281: expected 15 fields, saw 17\\nSkipping line 3285: expected 15 fields, saw 16\\nSkipping line 3291: expected 15 fields, saw 19\\nSkipping line 3296: expected 15 fields, saw 16\\nSkipping line 3297: expected 15 fields, saw 20\\nSkipping line 3300: expected 15 fields, saw 16\\nSkipping line 3303: expected 15 fields, saw 16\\nSkipping line 3304: expected 15 fields, saw 16\\nSkipping line 3311: expected 15 fields, saw 17\\nSkipping line 3319: expected 15 fields, saw 21\\nSkipping line 3321: expected 15 fields, saw 16\\nSkipping line 3329: expected 15 fields, saw 16\\nSkipping line 3334: expected 15 fields, saw 16\\nSkipping line 3343: expected 15 fields, saw 16\\nSkipping line 3346: expected 15 fields, saw 17\\nSkipping line 3347: expected 15 fields, saw 16\\nSkipping line 3348: expected 15 fields, saw 21\\nSkipping line 3350: expected 15 fields, saw 16\\nSkipping line 3354: expected 15 fields, saw 20\\nSkipping line 3355: expected 15 fields, saw 16\\nSkipping line 3357: expected 15 fields, saw 16\\nSkipping line 3370: expected 15 fields, saw 20\\nSkipping line 3373: expected 15 fields, saw 22\\nSkipping line 3376: expected 15 fields, saw 16\\nSkipping line 3377: expected 15 fields, saw 18\\nSkipping line 3378: expected 15 fields, saw 17\\nSkipping line 3379: expected 15 fields, saw 17\\nSkipping line 3382: expected 15 fields, saw 16\\nSkipping line 3384: expected 15 fields, saw 20\\nSkipping line 3392: expected 15 fields, saw 17\\nSkipping line 3405: expected 15 fields, saw 17\\nSkipping line 3412: expected 15 fields, saw 20\\nSkipping line 3417: expected 15 fields, saw 16\\nSkipping line 3419: expected 15 fields, saw 19\\nSkipping line 3420: expected 15 fields, saw 18\\nSkipping line 3421: expected 15 fields, saw 16\\nSkipping line 3423: expected 15 fields, saw 16\\nSkipping line 3424: expected 15 fields, saw 16\\nSkipping line 3425: expected 15 fields, saw 18\\nSkipping line 3435: expected 15 fields, saw 17\\nSkipping line 3440: expected 15 fields, saw 18\\nSkipping line 3447: expected 15 fields, saw 21\\nSkipping line 3448: expected 15 fields, saw 17\\nSkipping line 3457: expected 15 fields, saw 20\\nSkipping line 3459: expected 15 fields, saw 20\\nSkipping line 3469: expected 15 fields, saw 16\\nSkipping line 3476: expected 15 fields, saw 18\\nSkipping line 3480: expected 15 fields, saw 17\\nSkipping line 3481: expected 15 fields, saw 18\\nSkipping line 3482: expected 15 fields, saw 17\\nSkipping line 3485: expected 15 fields, saw 17\\nSkipping line 3487: expected 15 fields, saw 17\\nSkipping line 3488: expected 15 fields, saw 16\\nSkipping line 3489: expected 15 fields, saw 18\\nSkipping line 3492: expected 15 fields, saw 19\\nSkipping line 3493: expected 15 fields, saw 19\\nSkipping line 3495: expected 15 fields, saw 16\\nSkipping line 3496: expected 15 fields, saw 17\\nSkipping line 3497: expected 15 fields, saw 18\\nSkipping line 3500: expected 15 fields, saw 16\\nSkipping line 3501: expected 15 fields, saw 16\\nSkipping line 3502: expected 15 fields, saw 21\\nSkipping line 3526: expected 15 fields, saw 19\\nSkipping line 3533: expected 15 fields, saw 19\\nSkipping line 3537: expected 15 fields, saw 17\\nSkipping line 3538: expected 15 fields, saw 17\\nSkipping line 3539: expected 15 fields, saw 16\\nSkipping line 3547: expected 15 fields, saw 16\\nSkipping line 3550: expected 15 fields, saw 17\\nSkipping line 3551: expected 15 fields, saw 17\\nSkipping line 3556: expected 15 fields, saw 16\\nSkipping line 3560: expected 15 fields, saw 20\\nSkipping line 3561: expected 15 fields, saw 19\\nSkipping line 3562: expected 15 fields, saw 17\\nSkipping line 3563: expected 15 fields, saw 17\\nSkipping line 3564: expected 15 fields, saw 19\\nSkipping line 3565: expected 15 fields, saw 23\\nSkipping line 3566: expected 15 fields, saw 17\\nSkipping line 3567: expected 15 fields, saw 18\\nSkipping line 3568: expected 15 fields, saw 19\\nSkipping line 3578: expected 15 fields, saw 16\\nSkipping line 3581: expected 15 fields, saw 20\\nSkipping line 3582: expected 15 fields, saw 16\\nSkipping line 3583: expected 15 fields, saw 16\\nSkipping line 3586: expected 15 fields, saw 16\\nSkipping line 3588: expected 15 fields, saw 17\\nSkipping line 3598: expected 15 fields, saw 17\\nSkipping line 3600: expected 15 fields, saw 16\\nSkipping line 3602: expected 15 fields, saw 16\\nSkipping line 3604: expected 15 fields, saw 17\\nSkipping line 3605: expected 15 fields, saw 19\\nSkipping line 3606: expected 15 fields, saw 18\\nSkipping line 3607: expected 15 fields, saw 16\\nSkipping line 3616: expected 15 fields, saw 17\\nSkipping line 3618: expected 15 fields, saw 16\\nSkipping line 3625: expected 15 fields, saw 18\\nSkipping line 3627: expected 15 fields, saw 18\\nSkipping line 3628: expected 15 fields, saw 16\\nSkipping line 3637: expected 15 fields, saw 17\\nSkipping line 3638: expected 15 fields, saw 18\\nSkipping line 3639: expected 15 fields, saw 18\\nSkipping line 3640: expected 15 fields, saw 16\\nSkipping line 3643: expected 15 fields, saw 19\\nSkipping line 3646: expected 15 fields, saw 17\\nSkipping line 3648: expected 15 fields, saw 16\\nSkipping line 3651: expected 15 fields, saw 16\\nSkipping line 3652: expected 15 fields, saw 17\\nSkipping line 3653: expected 15 fields, saw 19\\nSkipping line 3657: expected 15 fields, saw 17\\nSkipping line 3660: expected 15 fields, saw 17\\nSkipping line 3664: expected 15 fields, saw 20\\nSkipping line 3665: expected 15 fields, saw 16\\nSkipping line 3671: expected 15 fields, saw 16\\nSkipping line 3674: expected 15 fields, saw 18\\nSkipping line 3675: expected 15 fields, saw 19\\nSkipping line 3676: expected 15 fields, saw 17\\nSkipping line 3683: expected 15 fields, saw 16\\nSkipping line 3685: expected 15 fields, saw 16\\nSkipping line 3687: expected 15 fields, saw 17\\nSkipping line 3688: expected 15 fields, saw 17\\nSkipping line 3699: expected 15 fields, saw 17\\nSkipping line 3704: expected 15 fields, saw 16\\nSkipping line 3705: expected 15 fields, saw 19\\nSkipping line 3706: expected 15 fields, saw 19\\nSkipping line 3710: expected 15 fields, saw 16\\nSkipping line 3714: expected 15 fields, saw 16\\nSkipping line 3716: expected 15 fields, saw 16\\nSkipping line 3718: expected 15 fields, saw 16\\nSkipping line 3722: expected 15 fields, saw 17\\nSkipping line 3724: expected 15 fields, saw 20\\nSkipping line 3726: expected 15 fields, saw 24\\nSkipping line 3727: expected 15 fields, saw 17\\nSkipping line 3729: expected 15 fields, saw 18\\nSkipping line 3730: expected 15 fields, saw 16\\nSkipping line 3731: expected 15 fields, saw 16\\nSkipping line 3732: expected 15 fields, saw 16\\nSkipping line 3737: expected 15 fields, saw 18\\nSkipping line 3743: expected 15 fields, saw 17\\nSkipping line 3749: expected 15 fields, saw 16\\nSkipping line 3750: expected 15 fields, saw 19\\nSkipping line 3754: expected 15 fields, saw 16\\nSkipping line 3758: expected 15 fields, saw 18\\nSkipping line 3759: expected 15 fields, saw 19\\nSkipping line 3760: expected 15 fields, saw 16\\nSkipping line 3761: expected 15 fields, saw 18\\nSkipping line 3762: expected 15 fields, saw 17\\nSkipping line 3772: expected 15 fields, saw 18\\nSkipping line 3775: expected 15 fields, saw 17\\nSkipping line 3785: expected 15 fields, saw 17\\nSkipping line 3788: expected 15 fields, saw 16\\nSkipping line 3789: expected 15 fields, saw 22\\nSkipping line 3792: expected 15 fields, saw 16\\nSkipping line 3794: expected 15 fields, saw 18\\nSkipping line 3795: expected 15 fields, saw 18\\nSkipping line 3797: expected 15 fields, saw 17\\nSkipping line 3804: expected 15 fields, saw 16\\nSkipping line 3805: expected 15 fields, saw 16\\nSkipping line 3806: expected 15 fields, saw 16\\nSkipping line 3807: expected 15 fields, saw 18\\nSkipping line 3809: expected 15 fields, saw 17\\nSkipping line 3821: expected 15 fields, saw 18\\nSkipping line 3832: expected 15 fields, saw 18\\nSkipping line 3835: expected 15 fields, saw 18\\nSkipping line 3839: expected 15 fields, saw 16\\nSkipping line 3842: expected 15 fields, saw 17\\nSkipping line 3850: expected 15 fields, saw 18\\nSkipping line 3854: expected 15 fields, saw 18\\nSkipping line 3855: expected 15 fields, saw 23\\nSkipping line 3859: expected 15 fields, saw 16\\nSkipping line 3861: expected 15 fields, saw 16\\nSkipping line 3863: expected 15 fields, saw 16\\nSkipping line 3864: expected 15 fields, saw 23\\nSkipping line 3867: expected 15 fields, saw 18\\nSkipping line 3868: expected 15 fields, saw 21\\nSkipping line 3869: expected 15 fields, saw 20\\nSkipping line 3876: expected 15 fields, saw 16\\nSkipping line 3881: expected 15 fields, saw 17\\nSkipping line 3886: expected 15 fields, saw 19\\nSkipping line 3894: expected 15 fields, saw 17\\nSkipping line 3895: expected 15 fields, saw 16\\nSkipping line 3899: expected 15 fields, saw 17\\nSkipping line 3902: expected 15 fields, saw 16\\nSkipping line 3906: expected 15 fields, saw 16\\nSkipping line 3910: expected 15 fields, saw 16\\nSkipping line 3912: expected 15 fields, saw 23\\nSkipping line 3914: expected 15 fields, saw 18\\nSkipping line 3915: expected 15 fields, saw 16\\nSkipping line 3917: expected 15 fields, saw 16\\nSkipping line 3921: expected 15 fields, saw 20\\nSkipping line 3923: expected 15 fields, saw 16\\nSkipping line 3925: expected 15 fields, saw 19\\nSkipping line 3926: expected 15 fields, saw 16\\nSkipping line 3928: expected 15 fields, saw 26\\nSkipping line 3931: expected 15 fields, saw 16\\nSkipping line 3934: expected 15 fields, saw 21\\nSkipping line 3941: expected 15 fields, saw 18\\nSkipping line 3947: expected 15 fields, saw 16\\nSkipping line 3949: expected 15 fields, saw 16\\nSkipping line 3951: expected 15 fields, saw 19\\nSkipping line 3952: expected 15 fields, saw 17\\nSkipping line 3954: expected 15 fields, saw 16\\nSkipping line 3966: expected 15 fields, saw 17\\nSkipping line 3967: expected 15 fields, saw 17\\nSkipping line 3969: expected 15 fields, saw 16\\nSkipping line 3974: expected 15 fields, saw 19\\nSkipping line 3980: expected 15 fields, saw 25\\nSkipping line 3990: expected 15 fields, saw 16\\nSkipping line 3991: expected 15 fields, saw 18\\nSkipping line 3997: expected 15 fields, saw 20\\nSkipping line 3998: expected 15 fields, saw 17\\nSkipping line 4010: expected 15 fields, saw 17\\nSkipping line 4013: expected 15 fields, saw 16\\nSkipping line 4018: expected 15 fields, saw 17\\nSkipping line 4019: expected 15 fields, saw 17\\nSkipping line 4020: expected 15 fields, saw 17\\nSkipping line 4025: expected 15 fields, saw 17\\nSkipping line 4028: expected 15 fields, saw 16\\nSkipping line 4033: expected 15 fields, saw 17\\nSkipping line 4034: expected 15 fields, saw 19\\nSkipping line 4036: expected 15 fields, saw 16\\nSkipping line 4039: expected 15 fields, saw 19\\nSkipping line 4046: expected 15 fields, saw 16\\nSkipping line 4054: expected 15 fields, saw 16\\nSkipping line 4058: expected 15 fields, saw 16\\nSkipping line 4061: expected 15 fields, saw 16\\nSkipping line 4064: expected 15 fields, saw 16\\nSkipping line 4068: expected 15 fields, saw 16\\nSkipping line 4075: expected 15 fields, saw 17\\nSkipping line 4082: expected 15 fields, saw 25\\nSkipping line 4084: expected 15 fields, saw 18\\nSkipping line 4085: expected 15 fields, saw 17\\nSkipping line 4090: expected 15 fields, saw 21\\nSkipping line 4091: expected 15 fields, saw 18\\nSkipping line 4096: expected 15 fields, saw 17\\nSkipping line 4099: expected 15 fields, saw 17\\nSkipping line 4106: expected 15 fields, saw 19\\nSkipping line 4108: expected 15 fields, saw 17\\nSkipping line 4110: expected 15 fields, saw 24\\nSkipping line 4112: expected 15 fields, saw 17\\nSkipping line 4115: expected 15 fields, saw 21\\nSkipping line 4116: expected 15 fields, saw 17\\nSkipping line 4117: expected 15 fields, saw 16\\nSkipping line 4124: expected 15 fields, saw 16\\nSkipping line 4131: expected 15 fields, saw 18\\nSkipping line 4135: expected 15 fields, saw 18\\nSkipping line 4137: expected 15 fields, saw 18\\nSkipping line 4138: expected 15 fields, saw 17\\nSkipping line 4139: expected 15 fields, saw 17\\nSkipping line 4140: expected 15 fields, saw 21\\nSkipping line 4144: expected 15 fields, saw 22\\nSkipping line 4150: expected 15 fields, saw 21\\nSkipping line 4152: expected 15 fields, saw 17\\nSkipping line 4158: expected 15 fields, saw 16\\nSkipping line 4163: expected 15 fields, saw 16\\nSkipping line 4165: expected 15 fields, saw 16\\nSkipping line 4169: expected 15 fields, saw 19\\nSkipping line 4170: expected 15 fields, saw 18\\nSkipping line 4173: expected 15 fields, saw 19\\nSkipping line 4174: expected 15 fields, saw 21\\nSkipping line 4179: expected 15 fields, saw 17\\nSkipping line 4181: expected 15 fields, saw 18\\nSkipping line 4183: expected 15 fields, saw 17\\nSkipping line 4185: expected 15 fields, saw 19\\nSkipping line 4188: expected 15 fields, saw 18\\nSkipping line 4191: expected 15 fields, saw 16\\nSkipping line 4195: expected 15 fields, saw 17\\nSkipping line 4198: expected 15 fields, saw 18\\nSkipping line 4199: expected 15 fields, saw 17\\nSkipping line 4209: expected 15 fields, saw 16\\nSkipping line 4210: expected 15 fields, saw 20\\nSkipping line 4213: expected 15 fields, saw 16\\nSkipping line 4218: expected 15 fields, saw 16\\nSkipping line 4230: expected 15 fields, saw 18\\nSkipping line 4237: expected 15 fields, saw 16\\nSkipping line 4238: expected 15 fields, saw 17\\nSkipping line 4242: expected 15 fields, saw 16\\nSkipping line 4247: expected 15 fields, saw 16\\nSkipping line 4248: expected 15 fields, saw 17\\nSkipping line 4249: expected 15 fields, saw 16\\nSkipping line 4252: expected 15 fields, saw 18\\nSkipping line 4255: expected 15 fields, saw 16\\nSkipping line 4256: expected 15 fields, saw 16\\nSkipping line 4257: expected 15 fields, saw 17\\nSkipping line 4259: expected 15 fields, saw 17\\nSkipping line 4264: expected 15 fields, saw 19\\nSkipping line 4271: expected 15 fields, saw 17\\nSkipping line 4272: expected 15 fields, saw 16\\nSkipping line 4276: expected 15 fields, saw 16\\nSkipping line 4277: expected 15 fields, saw 19\\nSkipping line 4280: expected 15 fields, saw 16\\nSkipping line 4283: expected 15 fields, saw 18\\nSkipping line 4293: expected 15 fields, saw 18\\nSkipping line 4302: expected 15 fields, saw 16\\nSkipping line 4306: expected 15 fields, saw 17\\nSkipping line 4314: expected 15 fields, saw 17\\nSkipping line 4316: expected 15 fields, saw 16\\nSkipping line 4320: expected 15 fields, saw 16\\nSkipping line 4324: expected 15 fields, saw 16\\nSkipping line 4325: expected 15 fields, saw 19\\nSkipping line 4326: expected 15 fields, saw 18\\nSkipping line 4333: expected 15 fields, saw 16\\nSkipping line 4336: expected 15 fields, saw 20\\nSkipping line 4345: expected 15 fields, saw 17\\nSkipping line 4346: expected 15 fields, saw 16\\nSkipping line 4347: expected 15 fields, saw 17\\nSkipping line 4351: expected 15 fields, saw 16\\nSkipping line 4354: expected 15 fields, saw 19\\nSkipping line 4355: expected 15 fields, saw 19\\nSkipping line 4358: expected 15 fields, saw 16\\nSkipping line 4380: expected 15 fields, saw 20\\nSkipping line 4381: expected 15 fields, saw 18\\nSkipping line 4386: expected 15 fields, saw 18\\nSkipping line 4392: expected 15 fields, saw 17\\nSkipping line 4398: expected 15 fields, saw 17\\nSkipping line 4399: expected 15 fields, saw 17\\nSkipping line 4418: expected 15 fields, saw 16\\nSkipping line 4426: expected 15 fields, saw 16\\nSkipping line 4428: expected 15 fields, saw 16\\nSkipping line 4432: expected 15 fields, saw 19\\nSkipping line 4435: expected 15 fields, saw 19\\nSkipping line 4440: expected 15 fields, saw 18\\nSkipping line 4447: expected 15 fields, saw 16\\nSkipping line 4448: expected 15 fields, saw 16\\nSkipping line 4449: expected 15 fields, saw 16\\nSkipping line 4453: expected 15 fields, saw 18\\nSkipping line 4459: expected 15 fields, saw 16\\nSkipping line 4462: expected 15 fields, saw 16\\nSkipping line 4464: expected 15 fields, saw 16\\nSkipping line 4468: expected 15 fields, saw 17\\nSkipping line 4472: expected 15 fields, saw 21\\nSkipping line 4473: expected 15 fields, saw 17\\nSkipping line 4479: expected 15 fields, saw 20\\nSkipping line 4484: expected 15 fields, saw 16\\nSkipping line 4485: expected 15 fields, saw 16\\nSkipping line 4500: expected 15 fields, saw 16\\nSkipping line 4503: expected 15 fields, saw 16\\nSkipping line 4515: expected 15 fields, saw 16\\nSkipping line 4519: expected 15 fields, saw 16\\nSkipping line 4521: expected 15 fields, saw 19\\nSkipping line 4522: expected 15 fields, saw 17\\nSkipping line 4525: expected 15 fields, saw 17\\nSkipping line 4526: expected 15 fields, saw 17\\nSkipping line 4529: expected 15 fields, saw 19\\nSkipping line 4535: expected 15 fields, saw 16\\nSkipping line 4540: expected 15 fields, saw 19\\nSkipping line 4545: expected 15 fields, saw 17\\nSkipping line 4547: expected 15 fields, saw 18\\nSkipping line 4550: expected 15 fields, saw 16\\nSkipping line 4551: expected 15 fields, saw 17\\nSkipping line 4554: expected 15 fields, saw 20\\nSkipping line 4555: expected 15 fields, saw 19\\nSkipping line 4557: expected 15 fields, saw 16\\nSkipping line 4558: expected 15 fields, saw 20\\nSkipping line 4562: expected 15 fields, saw 20\\nSkipping line 4563: expected 15 fields, saw 16\\nSkipping line 4570: expected 15 fields, saw 21\\nSkipping line 4575: expected 15 fields, saw 18\\nSkipping line 4577: expected 15 fields, saw 16\\nSkipping line 4581: expected 15 fields, saw 16\\nSkipping line 4586: expected 15 fields, saw 17\\nSkipping line 4588: expected 15 fields, saw 17\\nSkipping line 4589: expected 15 fields, saw 20\\nSkipping line 4600: expected 15 fields, saw 16\\nSkipping line 4607: expected 15 fields, saw 16\\nSkipping line 4613: expected 15 fields, saw 16\\nSkipping line 4621: expected 15 fields, saw 20\\nSkipping line 4625: expected 15 fields, saw 23\\nSkipping line 4627: expected 15 fields, saw 20\\nSkipping line 4628: expected 15 fields, saw 16\\nSkipping line 4631: expected 15 fields, saw 16\\nSkipping line 4633: expected 15 fields, saw 16\\nSkipping line 4641: expected 15 fields, saw 19\\nSkipping line 4643: expected 15 fields, saw 17\\nSkipping line 4645: expected 15 fields, saw 16\\nSkipping line 4652: expected 15 fields, saw 16\\nSkipping line 4654: expected 15 fields, saw 18\\nSkipping line 4657: expected 15 fields, saw 16\\nSkipping line 4658: expected 15 fields, saw 16\\nSkipping line 4661: expected 15 fields, saw 16\\nSkipping line 4663: expected 15 fields, saw 22\\nSkipping line 4667: expected 15 fields, saw 16\\nSkipping line 4668: expected 15 fields, saw 17\\nSkipping line 4676: expected 15 fields, saw 16\\nSkipping line 4683: expected 15 fields, saw 19\\nSkipping line 4684: expected 15 fields, saw 16\\nSkipping line 4690: expected 15 fields, saw 16\\nSkipping line 4691: expected 15 fields, saw 19\\nSkipping line 4697: expected 15 fields, saw 18\\nSkipping line 4698: expected 15 fields, saw 16\\nSkipping line 4703: expected 15 fields, saw 17\\nSkipping line 4708: expected 15 fields, saw 16\\nSkipping line 4709: expected 15 fields, saw 18\\nSkipping line 4710: expected 15 fields, saw 18\\nSkipping line 4715: expected 15 fields, saw 17\\nSkipping line 4716: expected 15 fields, saw 17\\nSkipping line 4721: expected 15 fields, saw 19\\nSkipping line 4726: expected 15 fields, saw 18\\nSkipping line 4729: expected 15 fields, saw 19\\nSkipping line 4737: expected 15 fields, saw 16\\nSkipping line 4741: expected 15 fields, saw 16\\nSkipping line 4743: expected 15 fields, saw 18\\nSkipping line 4751: expected 15 fields, saw 16\\nSkipping line 4753: expected 15 fields, saw 17\\nSkipping line 4760: expected 15 fields, saw 16\\nSkipping line 4765: expected 15 fields, saw 17\\nSkipping line 4770: expected 15 fields, saw 18\\nSkipping line 4778: expected 15 fields, saw 20\\nSkipping line 4779: expected 15 fields, saw 16\\nSkipping line 4780: expected 15 fields, saw 17\\nSkipping line 4784: expected 15 fields, saw 18\\nSkipping line 4789: expected 15 fields, saw 16\\nSkipping line 4790: expected 15 fields, saw 17\\nSkipping line 4791: expected 15 fields, saw 17\\nSkipping line 4792: expected 15 fields, saw 16\\nSkipping line 4794: expected 15 fields, saw 16\\nSkipping line 4795: expected 15 fields, saw 16\\nSkipping line 4796: expected 15 fields, saw 19\\nSkipping line 4797: expected 15 fields, saw 19\\nSkipping line 4799: expected 15 fields, saw 16\\nSkipping line 4806: expected 15 fields, saw 22\\nSkipping line 4808: expected 15 fields, saw 16\\nSkipping line 4809: expected 15 fields, saw 16\\nSkipping line 4810: expected 15 fields, saw 16\\nSkipping line 4815: expected 15 fields, saw 16\\nSkipping line 4818: expected 15 fields, saw 16\\nSkipping line 4821: expected 15 fields, saw 21\\nSkipping line 4826: expected 15 fields, saw 16\\nSkipping line 4827: expected 15 fields, saw 16\\nSkipping line 4828: expected 15 fields, saw 17\\nSkipping line 4833: expected 15 fields, saw 16\\nSkipping line 4834: expected 15 fields, saw 16\\nSkipping line 4835: expected 15 fields, saw 17\\nSkipping line 4836: expected 15 fields, saw 16\\nSkipping line 4837: expected 15 fields, saw 16\\nSkipping line 4839: expected 15 fields, saw 18\\nSkipping line 4841: expected 15 fields, saw 18\\nSkipping line 4842: expected 15 fields, saw 21\\nSkipping line 4843: expected 15 fields, saw 19\\nSkipping line 4849: expected 15 fields, saw 16\\nSkipping line 4855: expected 15 fields, saw 20\\nSkipping line 4859: expected 15 fields, saw 16\\nSkipping line 4862: expected 15 fields, saw 17\\nSkipping line 4865: expected 15 fields, saw 16\\nSkipping line 4867: expected 15 fields, saw 17\\nSkipping line 4870: expected 15 fields, saw 24\\nSkipping line 4871: expected 15 fields, saw 16\\nSkipping line 4872: expected 15 fields, saw 16\\nSkipping line 4879: expected 15 fields, saw 18\\nSkipping line 4884: expected 15 fields, saw 16\\nSkipping line 4885: expected 15 fields, saw 19\\nSkipping line 4888: expected 15 fields, saw 19\\nSkipping line 4889: expected 15 fields, saw 17\\nSkipping line 4892: expected 15 fields, saw 17\\nSkipping line 4894: expected 15 fields, saw 18\\nSkipping line 4898: expected 15 fields, saw 17\\nSkipping line 4902: expected 15 fields, saw 19\\nSkipping line 4909: expected 15 fields, saw 22\\nSkipping line 4911: expected 15 fields, saw 17\\nSkipping line 4913: expected 15 fields, saw 16\\nSkipping line 4918: expected 15 fields, saw 19\\nSkipping line 4926: expected 15 fields, saw 19\\nSkipping line 4927: expected 15 fields, saw 19\\nSkipping line 4930: expected 15 fields, saw 16\\nSkipping line 4933: expected 15 fields, saw 17\\nSkipping line 4937: expected 15 fields, saw 17\\nSkipping line 4945: expected 15 fields, saw 18\\nSkipping line 4946: expected 15 fields, saw 16\\nSkipping line 4949: expected 15 fields, saw 16\\nSkipping line 4950: expected 15 fields, saw 18\\nSkipping line 4951: expected 15 fields, saw 17\\nSkipping line 4953: expected 15 fields, saw 22\\nSkipping line 4958: expected 15 fields, saw 17\\nSkipping line 4962: expected 15 fields, saw 24\\nSkipping line 4966: expected 15 fields, saw 18\\nSkipping line 4971: expected 15 fields, saw 16\\nSkipping line 4972: expected 15 fields, saw 16\\nSkipping line 4988: expected 15 fields, saw 17\\nSkipping line 4989: expected 15 fields, saw 18\\nSkipping line 5000: expected 15 fields, saw 19\\nSkipping line 5009: expected 15 fields, saw 16\\nSkipping line 5013: expected 15 fields, saw 16\\nSkipping line 5014: expected 15 fields, saw 17\\nSkipping line 5017: expected 15 fields, saw 17\\nSkipping line 5026: expected 15 fields, saw 18\\nSkipping line 5029: expected 15 fields, saw 17\\nSkipping line 5032: expected 15 fields, saw 16\\nSkipping line 5038: expected 15 fields, saw 20\\nSkipping line 5039: expected 15 fields, saw 17\\nSkipping line 5040: expected 15 fields, saw 16\\nSkipping line 5044: expected 15 fields, saw 18\\nSkipping line 5047: expected 15 fields, saw 17\\nSkipping line 5055: expected 15 fields, saw 19\\nSkipping line 5060: expected 15 fields, saw 16\\nSkipping line 5061: expected 15 fields, saw 16\\nSkipping line 5062: expected 15 fields, saw 19\\nSkipping line 5070: expected 15 fields, saw 16\\nSkipping line 5073: expected 15 fields, saw 16\\nSkipping line 5074: expected 15 fields, saw 18\\nSkipping line 5075: expected 15 fields, saw 19\\nSkipping line 5076: expected 15 fields, saw 18\\nSkipping line 5077: expected 15 fields, saw 17\\nSkipping line 5086: expected 15 fields, saw 18\\nSkipping line 5087: expected 15 fields, saw 21\\nSkipping line 5089: expected 15 fields, saw 16\\nSkipping line 5097: expected 15 fields, saw 16\\nSkipping line 5099: expected 15 fields, saw 19\\nSkipping line 5117: expected 15 fields, saw 19\\nSkipping line 5123: expected 15 fields, saw 16\\nSkipping line 5124: expected 15 fields, saw 16\\nSkipping line 5130: expected 15 fields, saw 16\\nSkipping line 5132: expected 15 fields, saw 17\\nSkipping line 5135: expected 15 fields, saw 17\\nSkipping line 5137: expected 15 fields, saw 18\\nSkipping line 5141: expected 15 fields, saw 18\\nSkipping line 5150: expected 15 fields, saw 17\\nSkipping line 5154: expected 15 fields, saw 18\\nSkipping line 5159: expected 15 fields, saw 21\\nSkipping line 5163: expected 15 fields, saw 20\\nSkipping line 5164: expected 15 fields, saw 17\\nSkipping line 5165: expected 15 fields, saw 17\\nSkipping line 5175: expected 15 fields, saw 21\\nSkipping line 5181: expected 15 fields, saw 17\\nSkipping line 5182: expected 15 fields, saw 18\\nSkipping line 5189: expected 15 fields, saw 17\\nSkipping line 5191: expected 15 fields, saw 18\\nSkipping line 5200: expected 15 fields, saw 17\\nSkipping line 5202: expected 15 fields, saw 19\\nSkipping line 5205: expected 15 fields, saw 16\\nSkipping line 5207: expected 15 fields, saw 18\\nSkipping line 5220: expected 15 fields, saw 16\\nSkipping line 5226: expected 15 fields, saw 18\\nSkipping line 5231: expected 15 fields, saw 17\\nSkipping line 5234: expected 15 fields, saw 20\\nSkipping line 5235: expected 15 fields, saw 19\\nSkipping line 5239: expected 15 fields, saw 17\\nSkipping line 5242: expected 15 fields, saw 16\\nSkipping line 5247: expected 15 fields, saw 24\\nSkipping line 5252: expected 15 fields, saw 19\\nSkipping line 5253: expected 15 fields, saw 17\\nSkipping line 5256: expected 15 fields, saw 16\\nSkipping line 5265: expected 15 fields, saw 20\\nSkipping line 5266: expected 15 fields, saw 17\\nSkipping line 5269: expected 15 fields, saw 17\\nSkipping line 5272: expected 15 fields, saw 17\\nSkipping line 5284: expected 15 fields, saw 18\\nSkipping line 5287: expected 15 fields, saw 16\\nSkipping line 5288: expected 15 fields, saw 16\\nSkipping line 5289: expected 15 fields, saw 16\\nSkipping line 5290: expected 15 fields, saw 16\\nSkipping line 5291: expected 15 fields, saw 18\\nSkipping line 5300: expected 15 fields, saw 16\\nSkipping line 5301: expected 15 fields, saw 19\\nSkipping line 5302: expected 15 fields, saw 21\\nSkipping line 5303: expected 15 fields, saw 16\\nSkipping line 5307: expected 15 fields, saw 16\\nSkipping line 5308: expected 15 fields, saw 16\\nSkipping line 5309: expected 15 fields, saw 17\\nSkipping line 5313: expected 15 fields, saw 16\\nSkipping line 5316: expected 15 fields, saw 16\\nSkipping line 5317: expected 15 fields, saw 16\\nSkipping line 5321: expected 15 fields, saw 16\\nSkipping line 5328: expected 15 fields, saw 17\\nSkipping line 5329: expected 15 fields, saw 20\\nSkipping line 5335: expected 15 fields, saw 17\\nSkipping line 5337: expected 15 fields, saw 18\\nSkipping line 5346: expected 15 fields, saw 18\\nSkipping line 5347: expected 15 fields, saw 19\\nSkipping line 5355: expected 15 fields, saw 16\\nSkipping line 5363: expected 15 fields, saw 16\\nSkipping line 5365: expected 15 fields, saw 18\\nSkipping line 5366: expected 15 fields, saw 16\\nSkipping line 5370: expected 15 fields, saw 17\\nSkipping line 5372: expected 15 fields, saw 16\\nSkipping line 5375: expected 15 fields, saw 16\\nSkipping line 5376: expected 15 fields, saw 21\\nSkipping line 5380: expected 15 fields, saw 16\\nSkipping line 5387: expected 15 fields, saw 16\\nSkipping line 5391: expected 15 fields, saw 18\\nSkipping line 5396: expected 15 fields, saw 18\\nSkipping line 5397: expected 15 fields, saw 18\\nSkipping line 5401: expected 15 fields, saw 18\\nSkipping line 5403: expected 15 fields, saw 16\\nSkipping line 5405: expected 15 fields, saw 16\\nSkipping line 5406: expected 15 fields, saw 17\\nSkipping line 5419: expected 15 fields, saw 17\\nSkipping line 5423: expected 15 fields, saw 16\\nSkipping line 5424: expected 15 fields, saw 17\\nSkipping line 5425: expected 15 fields, saw 16\\nSkipping line 5428: expected 15 fields, saw 18\\nSkipping line 5431: expected 15 fields, saw 17\\nSkipping line 5447: expected 15 fields, saw 16\\nSkipping line 5451: expected 15 fields, saw 18\\nSkipping line 5468: expected 15 fields, saw 21\\nSkipping line 5477: expected 15 fields, saw 16\\nSkipping line 5478: expected 15 fields, saw 21\\nSkipping line 5479: expected 15 fields, saw 17\\nSkipping line 5483: expected 15 fields, saw 18\\nSkipping line 5509: expected 15 fields, saw 16\\nSkipping line 5510: expected 15 fields, saw 16\\nSkipping line 5518: expected 15 fields, saw 17\\nSkipping line 5533: expected 15 fields, saw 16\\nSkipping line 5537: expected 15 fields, saw 17\\nSkipping line 5541: expected 15 fields, saw 16\\nSkipping line 5543: expected 15 fields, saw 16\\nSkipping line 5544: expected 15 fields, saw 23\\nSkipping line 5545: expected 15 fields, saw 17\\nSkipping line 5546: expected 15 fields, saw 18\\nSkipping line 5549: expected 15 fields, saw 17\\nSkipping line 5552: expected 15 fields, saw 21\\nSkipping line 5554: expected 15 fields, saw 20\\nSkipping line 5559: expected 15 fields, saw 16\\nSkipping line 5568: expected 15 fields, saw 16\\nSkipping line 5573: expected 15 fields, saw 17\\nSkipping line 5576: expected 15 fields, saw 18\\nSkipping line 5579: expected 15 fields, saw 19\\nSkipping line 5589: expected 15 fields, saw 16\\nSkipping line 5590: expected 15 fields, saw 17\\nSkipping line 5592: expected 15 fields, saw 22\\nSkipping line 5601: expected 15 fields, saw 19\\nSkipping line 5606: expected 15 fields, saw 17\\nSkipping line 5611: expected 15 fields, saw 16\\nSkipping line 5612: expected 15 fields, saw 16\\nSkipping line 5614: expected 15 fields, saw 19\\nSkipping line 5621: expected 15 fields, saw 17\\nSkipping line 5623: expected 15 fields, saw 20\\nSkipping line 5631: expected 15 fields, saw 18\\nSkipping line 5632: expected 15 fields, saw 17\\nSkipping line 5633: expected 15 fields, saw 18\\nSkipping line 5636: expected 15 fields, saw 16\\nSkipping line 5641: expected 15 fields, saw 21\\nSkipping line 5642: expected 15 fields, saw 16\\nSkipping line 5643: expected 15 fields, saw 16\\nSkipping line 5644: expected 15 fields, saw 17\\nSkipping line 5648: expected 15 fields, saw 17\\nSkipping line 5650: expected 15 fields, saw 16\\nSkipping line 5656: expected 15 fields, saw 17\\nSkipping line 5661: expected 15 fields, saw 18\\nSkipping line 5664: expected 15 fields, saw 19\\nSkipping line 5669: expected 15 fields, saw 18\\nSkipping line 5670: expected 15 fields, saw 16\\nSkipping line 5672: expected 15 fields, saw 20\\nSkipping line 5676: expected 15 fields, saw 16\\nSkipping line 5677: expected 15 fields, saw 16\\nSkipping line 5678: expected 15 fields, saw 17\\nSkipping line 5682: expected 15 fields, saw 17\\nSkipping line 5686: expected 15 fields, saw 17\\nSkipping line 5700: expected 15 fields, saw 17\\nSkipping line 5707: expected 15 fields, saw 16\\nSkipping line 5711: expected 15 fields, saw 17\\nSkipping line 5712: expected 15 fields, saw 18\\nSkipping line 5732: expected 15 fields, saw 18\\nSkipping line 5733: expected 15 fields, saw 18\\nSkipping line 5740: expected 15 fields, saw 19\\nSkipping line 5741: expected 15 fields, saw 18\\nSkipping line 5750: expected 15 fields, saw 20\\nSkipping line 5751: expected 15 fields, saw 16\\nSkipping line 5752: expected 15 fields, saw 22\\nSkipping line 5754: expected 15 fields, saw 16\\nSkipping line 5755: expected 15 fields, saw 16\\nSkipping line 5757: expected 15 fields, saw 17\\nSkipping line 5761: expected 15 fields, saw 17\\nSkipping line 5763: expected 15 fields, saw 19\\nSkipping line 5764: expected 15 fields, saw 17\\nSkipping line 5765: expected 15 fields, saw 19\\nSkipping line 5767: expected 15 fields, saw 19\\nSkipping line 5771: expected 15 fields, saw 16\\nSkipping line 5781: expected 15 fields, saw 17\\nSkipping line 5782: expected 15 fields, saw 17\\nSkipping line 5784: expected 15 fields, saw 17\\nSkipping line 5789: expected 15 fields, saw 16\\nSkipping line 5791: expected 15 fields, saw 18\\nSkipping line 5808: expected 15 fields, saw 16\\nSkipping line 5809: expected 15 fields, saw 18\\nSkipping line 5813: expected 15 fields, saw 18\\nSkipping line 5815: expected 15 fields, saw 17\\nSkipping line 5816: expected 15 fields, saw 16\\nSkipping line 5825: expected 15 fields, saw 17\\nSkipping line 5831: expected 15 fields, saw 16\\nSkipping line 5832: expected 15 fields, saw 21\\nSkipping line 5833: expected 15 fields, saw 16\\nSkipping line 5836: expected 15 fields, saw 16\\nSkipping line 5844: expected 15 fields, saw 16\\nSkipping line 5848: expected 15 fields, saw 16\\nSkipping line 5855: expected 15 fields, saw 16\\nSkipping line 5856: expected 15 fields, saw 16\\nSkipping line 5864: expected 15 fields, saw 16\\nSkipping line 5869: expected 15 fields, saw 16\\nSkipping line 5871: expected 15 fields, saw 18\\n'\n"
     ]
    }
   ],
   "source": [
    "bikedf = pd.read_csv('results.csv', error_bad_lines= False)"
   ]
  },
  {
   "cell_type": "code",
   "execution_count": 4,
   "metadata": {},
   "outputs": [
    {
     "name": "stdout",
     "output_type": "stream",
     "text": [
      "<class 'pandas.core.frame.DataFrame'>\n",
      "Index: 4920 entries,  12 photos to  7 photos\n",
      "Data columns (total 14 columns):\n",
      " #   Column            Non-Null Count  Dtype  \n",
      "---  ------            --------------  -----  \n",
      " 0   Number of photos  4920 non-null   object \n",
      " 1    Year and Model   4920 non-null   object \n",
      " 2    Category         4920 non-null   object \n",
      " 3    Condition        4920 non-null   object \n",
      " 4    Material         4920 non-null   object \n",
      " 5    Frame Size       4920 non-null   object \n",
      " 6    Wheel Size       4920 non-null   object \n",
      " 7    Front Travel     4920 non-null   object \n",
      " 8    Rear Travel      4920 non-null   object \n",
      " 9    Location         4916 non-null   object \n",
      " 10  State/Province    4892 non-null   object \n",
      " 11  Country           4076 non-null   object \n",
      " 12   Seller           3452 non-null   object \n",
      " 13   Price            0 non-null      float64\n",
      "dtypes: float64(1), object(13)\n",
      "memory usage: 576.6+ KB\n"
     ]
    }
   ],
   "source": [
    "bikedf.info()"
   ]
  },
  {
   "cell_type": "code",
   "execution_count": 5,
   "metadata": {},
   "outputs": [
    {
     "data": {
      "text/html": [
       "<div>\n",
       "<style scoped>\n",
       "    .dataframe tbody tr th:only-of-type {\n",
       "        vertical-align: middle;\n",
       "    }\n",
       "\n",
       "    .dataframe tbody tr th {\n",
       "        vertical-align: top;\n",
       "    }\n",
       "\n",
       "    .dataframe thead th {\n",
       "        text-align: right;\n",
       "    }\n",
       "</style>\n",
       "<table border=\"1\" class=\"dataframe\">\n",
       "  <thead>\n",
       "    <tr style=\"text-align: right;\">\n",
       "      <th></th>\n",
       "      <th>Number of photos</th>\n",
       "      <th>Year and Model</th>\n",
       "      <th>Category</th>\n",
       "      <th>Condition</th>\n",
       "      <th>Material</th>\n",
       "      <th>Frame Size</th>\n",
       "      <th>Wheel Size</th>\n",
       "      <th>Front Travel</th>\n",
       "      <th>Rear Travel</th>\n",
       "      <th>Location</th>\n",
       "      <th>State/Province</th>\n",
       "      <th>Country</th>\n",
       "      <th>Seller</th>\n",
       "      <th>Price</th>\n",
       "    </tr>\n",
       "  </thead>\n",
       "  <tbody>\n",
       "    <tr>\n",
       "      <th>6 photos</th>\n",
       "      <td>2018 Diamondback clutch 1</td>\n",
       "      <td>All Mountain/Enduro Bikes</td>\n",
       "      <td>Frame Size : L</td>\n",
       "      <td>Wheel Size : 27.5\" / 650B</td>\n",
       "      <td>Port Alberni</td>\n",
       "      <td>British Columbia</td>\n",
       "      <td>Canada</td>\n",
       "      <td>Seller: DavidAG | Login to contact seller</td>\n",
       "      <td>$1500 CAD</td>\n",
       "      <td>Large</td>\n",
       "      <td>2018</td>\n",
       "      <td>diamondback clutch 1 greenish blue</td>\n",
       "      <td>[Read More]</td>\n",
       "      <td>NaN</td>\n",
       "    </tr>\n",
       "    <tr>\n",
       "      <th>5 photos</th>\n",
       "      <td>2016 Giant REIGN ADVANCED 1 CARBON</td>\n",
       "      <td>All Mountain/Enduro Bikes</td>\n",
       "      <td>Material : Carbon Fiber</td>\n",
       "      <td>Frame Size : L</td>\n",
       "      <td>Wheel Size : 27.5\" / 650B</td>\n",
       "      <td>West Kelowna</td>\n",
       "      <td>British Columbia</td>\n",
       "      <td>Canada</td>\n",
       "      <td>Seller: dricciuti | Login to contact seller</td>\n",
       "      <td>$3300 CAD</td>\n",
       "      <td>Giant REIGN ADVANCED 1 CARBON (2016) Purchased...</td>\n",
       "      <td>[Read More]</td>\n",
       "      <td>NaN</td>\n",
       "      <td>NaN</td>\n",
       "    </tr>\n",
       "    <tr>\n",
       "      <th>3 photos</th>\n",
       "      <td>2015 Norco Range</td>\n",
       "      <td>All Mountain/Enduro Bikes</td>\n",
       "      <td>Frame Size : M</td>\n",
       "      <td>Wheel Size : 27.5\" / 650B</td>\n",
       "      <td>Chino</td>\n",
       "      <td>California</td>\n",
       "      <td>United States</td>\n",
       "      <td>Seller: beanbud | Login to contact seller</td>\n",
       "      <td>$1800 USD</td>\n",
       "      <td>2015 Norco Range Answer Carbon bars Fun 50mm s...</td>\n",
       "      <td>[Read More]</td>\n",
       "      <td>NaN</td>\n",
       "      <td>NaN</td>\n",
       "      <td>NaN</td>\n",
       "    </tr>\n",
       "    <tr>\n",
       "      <th>3 photos</th>\n",
       "      <td>2018 specialized stump jumper</td>\n",
       "      <td>All Mountain/Enduro Bikes</td>\n",
       "      <td>Frame Size : L</td>\n",
       "      <td>Wheel Size : 27.5\" / 650B</td>\n",
       "      <td>North Vancouver</td>\n",
       "      <td>British Columbia</td>\n",
       "      <td>Canada</td>\n",
       "      <td>Seller: BrennanHentze | Login to contact seller</td>\n",
       "      <td>$2300 CAD</td>\n",
       "      <td>Ridden lightly for one year. need gone soon pa...</td>\n",
       "      <td>[Read More]</td>\n",
       "      <td>NaN</td>\n",
       "      <td>NaN</td>\n",
       "      <td>NaN</td>\n",
       "    </tr>\n",
       "    <tr>\n",
       "      <th>7 photos</th>\n",
       "      <td>2017 REEB Dikyelous gen 1 Large</td>\n",
       "      <td>All Mountain/Enduro Bikes</td>\n",
       "      <td>Frame Size : L</td>\n",
       "      <td>Wheel Size : 29\"</td>\n",
       "      <td>Denver</td>\n",
       "      <td>Colorado</td>\n",
       "      <td>United States</td>\n",
       "      <td>Seller: Raj | Login to contact seller</td>\n",
       "      <td>$2500 USD</td>\n",
       "      <td>REEB Dikyelous (gen 1) 29” Large Excellent Sha...</td>\n",
       "      <td>[Read More]</td>\n",
       "      <td>NaN</td>\n",
       "      <td>NaN</td>\n",
       "      <td>NaN</td>\n",
       "    </tr>\n",
       "  </tbody>\n",
       "</table>\n",
       "</div>"
      ],
      "text/plain": [
       "                             Number of photos            Year and Model   \\\n",
       " 6 photos           2018 Diamondback clutch 1  All Mountain/Enduro Bikes   \n",
       " 5 photos  2016 Giant REIGN ADVANCED 1 CARBON  All Mountain/Enduro Bikes   \n",
       " 3 photos                    2015 Norco Range  All Mountain/Enduro Bikes   \n",
       " 3 photos       2018 specialized stump jumper  All Mountain/Enduro Bikes   \n",
       " 7 photos     2017 REEB Dikyelous gen 1 Large  All Mountain/Enduro Bikes   \n",
       "\n",
       "                          Category                  Condition  \\\n",
       " 6 photos           Frame Size : L  Wheel Size : 27.5\" / 650B   \n",
       " 5 photos  Material : Carbon Fiber             Frame Size : L   \n",
       " 3 photos           Frame Size : M  Wheel Size : 27.5\" / 650B   \n",
       " 3 photos           Frame Size : L  Wheel Size : 27.5\" / 650B   \n",
       " 7 photos           Frame Size : L           Wheel Size : 29\"   \n",
       "\n",
       "                            Material         Frame Size         Wheel Size  \\\n",
       " 6 photos               Port Alberni   British Columbia             Canada   \n",
       " 5 photos  Wheel Size : 27.5\" / 650B       West Kelowna   British Columbia   \n",
       " 3 photos                      Chino         California      United States   \n",
       " 3 photos            North Vancouver   British Columbia             Canada   \n",
       " 7 photos                     Denver           Colorado      United States   \n",
       "\n",
       "                                              Front Travel  \\\n",
       " 6 photos        Seller: DavidAG | Login to contact seller   \n",
       " 5 photos                                           Canada   \n",
       " 3 photos        Seller: beanbud | Login to contact seller   \n",
       " 3 photos  Seller: BrennanHentze | Login to contact seller   \n",
       " 7 photos            Seller: Raj | Login to contact seller   \n",
       "\n",
       "                                           Rear Travel  \\\n",
       " 6 photos                                    $1500 CAD   \n",
       " 5 photos  Seller: dricciuti | Login to contact seller   \n",
       " 3 photos                                    $1800 USD   \n",
       " 3 photos                                    $2300 CAD   \n",
       " 7 photos                                    $2500 USD   \n",
       "\n",
       "                                                    Location  \\\n",
       " 6 photos                                              Large   \n",
       " 5 photos                                          $3300 CAD   \n",
       " 3 photos  2015 Norco Range Answer Carbon bars Fun 50mm s...   \n",
       " 3 photos  Ridden lightly for one year. need gone soon pa...   \n",
       " 7 photos  REEB Dikyelous (gen 1) 29” Large Excellent Sha...   \n",
       "\n",
       "                                              State/Province  \\\n",
       " 6 photos                                               2018   \n",
       " 5 photos  Giant REIGN ADVANCED 1 CARBON (2016) Purchased...   \n",
       " 3 photos                                        [Read More]   \n",
       " 3 photos                                        [Read More]   \n",
       " 7 photos                                        [Read More]   \n",
       "\n",
       "                                       Country       Seller   Price   \n",
       " 6 photos   diamondback clutch 1 greenish blue  [Read More]      NaN  \n",
       " 5 photos                          [Read More]          NaN      NaN  \n",
       " 3 photos                                  NaN          NaN      NaN  \n",
       " 3 photos                                  NaN          NaN      NaN  \n",
       " 7 photos                                  NaN          NaN      NaN  "
      ]
     },
     "execution_count": 5,
     "metadata": {},
     "output_type": "execute_result"
    }
   ],
   "source": [
    "bikedf.tail()"
   ]
  },
  {
   "cell_type": "code",
   "execution_count": 6,
   "metadata": {},
   "outputs": [
    {
     "data": {
      "text/plain": [
       "Index(['Number of photos', ' Year and Model ', ' Category', ' Condition',\n",
       "       ' Material', ' Frame Size', ' Wheel Size', ' Front Travel',\n",
       "       ' Rear Travel', ' Location', 'State/Province', 'Country', ' Seller',\n",
       "       ' Price '],\n",
       "      dtype='object')"
      ]
     },
     "execution_count": 6,
     "metadata": {},
     "output_type": "execute_result"
    }
   ],
   "source": [
    "bikedf.columns"
   ]
  },
  {
   "cell_type": "code",
   "execution_count": 7,
   "metadata": {},
   "outputs": [],
   "source": [
    "bikedf.rename(columns={' Year and Model ': 'Year and Model', ' Category': 'Category',' Condition': 'Condition',' Material':'Material',' Frame Size': 'Frame Size', ' Wheel Size': 'Wheel Size', ' Front Travel': 'Front Travel',' Rear Travel': 'Rear Travel', ' Location': 'City', ' Seller': 'Seller',' Price ': 'Price'},inplace = True)"
   ]
  },
  {
   "cell_type": "code",
   "execution_count": 12,
   "metadata": {},
   "outputs": [],
   "source": [
    "df = bikedf[bikedf['Category'] == 'All Mountain/Enduro Bikes']"
   ]
  },
  {
   "cell_type": "code",
   "execution_count": 13,
   "metadata": {},
   "outputs": [],
   "source": [
    "def wheel_in_string(string):\n",
    "    if 'Wheel' in string:\n",
    "        return False\n",
    "    else:\n",
    "        return True\n",
    "def rear_travel(string):\n",
    "    if 'Rear' in string:\n",
    "        return False\n",
    "    else:\n",
    "        return True\n",
    "    "
   ]
  },
  {
   "cell_type": "code",
   "execution_count": 14,
   "metadata": {},
   "outputs": [],
   "source": [
    "df.drop(df[df['Rear Travel'].apply(lambda x:rear_travel(x))].index, inplace= True)\n",
    "df.drop(df[df['Wheel Size'].apply(lambda x: wheel_in_string(x))].index, inplace= True)\n",
    "df.drop(df[df['Wheel Size'] == 'Wheel Size : 700C'].index,inplace = True)\n",
    "df.drop(df[df['Wheel Size'] == 'Wheel Size : 650C'].index,inplace = True)\n",
    "df.drop(df[df['Wheel Size'] == 'Wheel Size : 16\" or less'].index,inplace = True)\n",
    "df.drop(df[df['Wheel Size'] == 'Wheel Size : 20\"'].index,inplace = True)"
   ]
  },
  {
   "cell_type": "code",
   "execution_count": 15,
   "metadata": {},
   "outputs": [
    {
     "data": {
      "text/plain": [
       "Series([], Name: Wheel Size, dtype: int64)"
      ]
     },
     "execution_count": 15,
     "metadata": {},
     "output_type": "execute_result"
    }
   ],
   "source": [
    "df['Wheel Size'].value_counts()"
   ]
  },
  {
   "cell_type": "code",
   "execution_count": null,
   "metadata": {},
   "outputs": [],
   "source": []
  },
  {
   "cell_type": "code",
   "execution_count": 13,
   "metadata": {},
   "outputs": [],
   "source": [
    "def pull_year(string):\n",
    "    try:\n",
    "        return int(string[0:4])\n",
    "    except:\n",
    "        return None"
   ]
  },
  {
   "cell_type": "code",
   "execution_count": 14,
   "metadata": {},
   "outputs": [
    {
     "name": "stderr",
     "output_type": "stream",
     "text": [
      "/home/devin/anaconda3/lib/python3.7/site-packages/ipykernel_launcher.py:1: SettingWithCopyWarning: \n",
      "A value is trying to be set on a copy of a slice from a DataFrame.\n",
      "Try using .loc[row_indexer,col_indexer] = value instead\n",
      "\n",
      "See the caveats in the documentation: https://pandas.pydata.org/pandas-docs/stable/user_guide/indexing.html#returning-a-view-versus-a-copy\n",
      "  \"\"\"Entry point for launching an IPython kernel.\n"
     ]
    }
   ],
   "source": [
    "df['Year'] = df['Year and Model'].apply(lambda x: pull_year(x))"
   ]
  },
  {
   "cell_type": "code",
   "execution_count": 16,
   "metadata": {},
   "outputs": [],
   "source": [
    "\n",
    "#pd.options.display.float_format = '{:.0f}'.format"
   ]
  },
  {
   "cell_type": "code",
   "execution_count": 17,
   "metadata": {},
   "outputs": [],
   "source": [
    "def pull_condition(string):\n",
    "    try:\n",
    "        return string[11:]\n",
    "    except:\n",
    "        return None\n",
    "def pull_material(string):\n",
    "    try:\n",
    "        return string[10:]\n",
    "    except:\n",
    "        return None\n",
    "\n",
    "def pull_frame(string):\n",
    "    try:\n",
    "        return string[12:]\n",
    "    except:\n",
    "        return None\n",
    "def pull_wheel(string):\n",
    "    nums = '1234567890.'\n",
    "    lst = []\n",
    "    strg = ''\n",
    "    if '27.5\"' in string:\n",
    "        return 27.5\n",
    "    else:\n",
    "        for i in string:\n",
    "            if i in nums:\n",
    "                lst.append(int(i))\n",
    "        for x in lst:\n",
    "            strg += str(x)\n",
    "        return int(strg)\n",
    "def return_ints(string):\n",
    "    nums = '1234567890'\n",
    "    lst = []\n",
    "    strg = ''\n",
    "    for i in string:\n",
    "        if i in nums:\n",
    "            lst.append(int(i))\n",
    "    for x in lst:\n",
    "        strg += str(x)\n",
    "    return strg\n",
    "                "
   ]
  },
  {
   "cell_type": "code",
   "execution_count": 18,
   "metadata": {},
   "outputs": [
    {
     "name": "stderr",
     "output_type": "stream",
     "text": [
      "/home/devin/anaconda3/lib/python3.7/site-packages/ipykernel_launcher.py:1: SettingWithCopyWarning: \n",
      "A value is trying to be set on a copy of a slice from a DataFrame.\n",
      "Try using .loc[row_indexer,col_indexer] = value instead\n",
      "\n",
      "See the caveats in the documentation: https://pandas.pydata.org/pandas-docs/stable/user_guide/indexing.html#returning-a-view-versus-a-copy\n",
      "  \"\"\"Entry point for launching an IPython kernel.\n",
      "/home/devin/anaconda3/lib/python3.7/site-packages/ipykernel_launcher.py:2: SettingWithCopyWarning: \n",
      "A value is trying to be set on a copy of a slice from a DataFrame.\n",
      "Try using .loc[row_indexer,col_indexer] = value instead\n",
      "\n",
      "See the caveats in the documentation: https://pandas.pydata.org/pandas-docs/stable/user_guide/indexing.html#returning-a-view-versus-a-copy\n",
      "  \n",
      "/home/devin/anaconda3/lib/python3.7/site-packages/ipykernel_launcher.py:3: SettingWithCopyWarning: \n",
      "A value is trying to be set on a copy of a slice from a DataFrame.\n",
      "Try using .loc[row_indexer,col_indexer] = value instead\n",
      "\n",
      "See the caveats in the documentation: https://pandas.pydata.org/pandas-docs/stable/user_guide/indexing.html#returning-a-view-versus-a-copy\n",
      "  This is separate from the ipykernel package so we can avoid doing imports until\n",
      "/home/devin/anaconda3/lib/python3.7/site-packages/ipykernel_launcher.py:4: SettingWithCopyWarning: \n",
      "A value is trying to be set on a copy of a slice from a DataFrame.\n",
      "Try using .loc[row_indexer,col_indexer] = value instead\n",
      "\n",
      "See the caveats in the documentation: https://pandas.pydata.org/pandas-docs/stable/user_guide/indexing.html#returning-a-view-versus-a-copy\n",
      "  after removing the cwd from sys.path.\n",
      "/home/devin/anaconda3/lib/python3.7/site-packages/ipykernel_launcher.py:5: SettingWithCopyWarning: \n",
      "A value is trying to be set on a copy of a slice from a DataFrame.\n",
      "Try using .loc[row_indexer,col_indexer] = value instead\n",
      "\n",
      "See the caveats in the documentation: https://pandas.pydata.org/pandas-docs/stable/user_guide/indexing.html#returning-a-view-versus-a-copy\n",
      "  \"\"\"\n",
      "/home/devin/anaconda3/lib/python3.7/site-packages/ipykernel_launcher.py:6: SettingWithCopyWarning: \n",
      "A value is trying to be set on a copy of a slice from a DataFrame.\n",
      "Try using .loc[row_indexer,col_indexer] = value instead\n",
      "\n",
      "See the caveats in the documentation: https://pandas.pydata.org/pandas-docs/stable/user_guide/indexing.html#returning-a-view-versus-a-copy\n",
      "  \n",
      "/home/devin/anaconda3/lib/python3.7/site-packages/ipykernel_launcher.py:7: SettingWithCopyWarning: \n",
      "A value is trying to be set on a copy of a slice from a DataFrame.\n",
      "Try using .loc[row_indexer,col_indexer] = value instead\n",
      "\n",
      "See the caveats in the documentation: https://pandas.pydata.org/pandas-docs/stable/user_guide/indexing.html#returning-a-view-versus-a-copy\n",
      "  import sys\n"
     ]
    }
   ],
   "source": [
    "df['Condition'] = df['Condition'].apply(lambda x: pull_condition(x))\n",
    "df['Material'] = df['Material'].apply(lambda z: pull_material(z))\n",
    "df['Frame Size'] = df['Frame Size'].apply(lambda y: pull_frame(y))\n",
    "df['Wheel Size'] = df['Wheel Size'].apply(lambda e: pull_wheel(e))\n",
    "df['Front Travel'] = df['Front Travel'].apply(lambda q: return_ints(q))\n",
    "df['Rear Travel'] = df['Rear Travel'].apply(lambda q: return_ints(q))\n",
    "df['Number of photos'] = df['Number of photos'].apply(lambda q: return_ints(q))"
   ]
  },
  {
   "cell_type": "code",
   "execution_count": 19,
   "metadata": {},
   "outputs": [
    {
     "data": {
      "text/html": [
       "<div>\n",
       "<style scoped>\n",
       "    .dataframe tbody tr th:only-of-type {\n",
       "        vertical-align: middle;\n",
       "    }\n",
       "\n",
       "    .dataframe tbody tr th {\n",
       "        vertical-align: top;\n",
       "    }\n",
       "\n",
       "    .dataframe thead th {\n",
       "        text-align: right;\n",
       "    }\n",
       "</style>\n",
       "<table border=\"1\" class=\"dataframe\">\n",
       "  <thead>\n",
       "    <tr style=\"text-align: right;\">\n",
       "      <th></th>\n",
       "      <th>Number of photos</th>\n",
       "      <th>Year and Model</th>\n",
       "      <th>Category</th>\n",
       "      <th>Condition</th>\n",
       "      <th>Material</th>\n",
       "      <th>Frame Size</th>\n",
       "      <th>Wheel Size</th>\n",
       "      <th>Front Travel</th>\n",
       "      <th>Rear Travel</th>\n",
       "      <th>City</th>\n",
       "      <th>State/Province</th>\n",
       "      <th>Country</th>\n",
       "      <th>Seller</th>\n",
       "      <th>Price</th>\n",
       "      <th>Year</th>\n",
       "    </tr>\n",
       "  </thead>\n",
       "  <tbody>\n",
       "    <tr>\n",
       "      <th>0</th>\n",
       "      <td>5</td>\n",
       "      <td>2020 Specialized Fuse Expert</td>\n",
       "      <td>All Mountain/Enduro Bikes</td>\n",
       "      <td>Excellent</td>\n",
       "      <td>Aluminium</td>\n",
       "      <td>L</td>\n",
       "      <td>29.0</td>\n",
       "      <td>160</td>\n",
       "      <td>0</td>\n",
       "      <td>Thousand Oaks</td>\n",
       "      <td>California</td>\n",
       "      <td>United States</td>\n",
       "      <td>Seller: mtber31 ONLINE | Login to contact seller</td>\n",
       "      <td>$1900 USD</td>\n",
       "      <td>2020.0</td>\n",
       "    </tr>\n",
       "    <tr>\n",
       "      <th>1</th>\n",
       "      <td>7</td>\n",
       "      <td>2018 Evil Wreckoning</td>\n",
       "      <td>All Mountain/Enduro Bikes</td>\n",
       "      <td>Excellent</td>\n",
       "      <td>Carbon Fiber</td>\n",
       "      <td>M</td>\n",
       "      <td>29.0</td>\n",
       "      <td>160</td>\n",
       "      <td>160</td>\n",
       "      <td>Evergreen</td>\n",
       "      <td>Colorado</td>\n",
       "      <td>United States</td>\n",
       "      <td>Seller: MyNameuhBorat57 ONLINE | Login to cont...</td>\n",
       "      <td>$3400 USD</td>\n",
       "      <td>2018.0</td>\n",
       "    </tr>\n",
       "    <tr>\n",
       "      <th>2</th>\n",
       "      <td>5</td>\n",
       "      <td>2018 Intense Tracer</td>\n",
       "      <td>All Mountain/Enduro Bikes</td>\n",
       "      <td>Excellent</td>\n",
       "      <td>Carbon Fiber</td>\n",
       "      <td>M</td>\n",
       "      <td>27.5</td>\n",
       "      <td>170</td>\n",
       "      <td>170</td>\n",
       "      <td>Collingwood</td>\n",
       "      <td>Ontario</td>\n",
       "      <td>Canada</td>\n",
       "      <td>Seller: JohnWharin ONLINE | Login to contact s...</td>\n",
       "      <td>$3700 CAD</td>\n",
       "      <td>2018.0</td>\n",
       "    </tr>\n",
       "    <tr>\n",
       "      <th>3</th>\n",
       "      <td>4</td>\n",
       "      <td>2015 Ghost Cagua 5</td>\n",
       "      <td>All Mountain/Enduro Bikes</td>\n",
       "      <td>Good</td>\n",
       "      <td>Aluminium</td>\n",
       "      <td>L</td>\n",
       "      <td>27.5</td>\n",
       "      <td>150</td>\n",
       "      <td>155</td>\n",
       "      <td>Whistler</td>\n",
       "      <td>British Columbia</td>\n",
       "      <td>Canada</td>\n",
       "      <td>Seller: berggg ONLINE | Login to contact seller</td>\n",
       "      <td>$2000 CAD</td>\n",
       "      <td>2015.0</td>\n",
       "    </tr>\n",
       "    <tr>\n",
       "      <th>4</th>\n",
       "      <td>7</td>\n",
       "      <td>2017 Trek Fuel EX8</td>\n",
       "      <td>All Mountain/Enduro Bikes</td>\n",
       "      <td>Excellent</td>\n",
       "      <td>Aluminium</td>\n",
       "      <td>17.5\"</td>\n",
       "      <td>29.0</td>\n",
       "      <td>130</td>\n",
       "      <td>130</td>\n",
       "      <td>San Luis Obispo</td>\n",
       "      <td>California</td>\n",
       "      <td>United States</td>\n",
       "      <td>Seller: Salm0n ONLINE | Login to contact seller</td>\n",
       "      <td>$2199 USD</td>\n",
       "      <td>2017.0</td>\n",
       "    </tr>\n",
       "  </tbody>\n",
       "</table>\n",
       "</div>"
      ],
      "text/plain": [
       "  Number of photos                Year and Model                   Category  \\\n",
       "0                5  2020 Specialized Fuse Expert  All Mountain/Enduro Bikes   \n",
       "1                7          2018 Evil Wreckoning  All Mountain/Enduro Bikes   \n",
       "2                5           2018 Intense Tracer  All Mountain/Enduro Bikes   \n",
       "3                4            2015 Ghost Cagua 5  All Mountain/Enduro Bikes   \n",
       "4                7            2017 Trek Fuel EX8  All Mountain/Enduro Bikes   \n",
       "\n",
       "    Condition       Material Frame Size  Wheel Size Front Travel Rear Travel  \\\n",
       "0   Excellent      Aluminium          L        29.0          160           0   \n",
       "1   Excellent   Carbon Fiber          M        29.0          160         160   \n",
       "2   Excellent   Carbon Fiber          M        27.5          170         170   \n",
       "3        Good      Aluminium          L        27.5          150         155   \n",
       "4   Excellent      Aluminium      17.5\"        29.0          130         130   \n",
       "\n",
       "              City     State/Province         Country  \\\n",
       "0    Thousand Oaks         California   United States   \n",
       "1        Evergreen           Colorado   United States   \n",
       "2      Collingwood            Ontario          Canada   \n",
       "3         Whistler   British Columbia          Canada   \n",
       "4  San Luis Obispo         California   United States   \n",
       "\n",
       "                                              Seller      Price    Year  \n",
       "0   Seller: mtber31 ONLINE | Login to contact seller  $1900 USD  2020.0  \n",
       "1  Seller: MyNameuhBorat57 ONLINE | Login to cont...  $3400 USD  2018.0  \n",
       "2  Seller: JohnWharin ONLINE | Login to contact s...  $3700 CAD  2018.0  \n",
       "3    Seller: berggg ONLINE | Login to contact seller  $2000 CAD  2015.0  \n",
       "4    Seller: Salm0n ONLINE | Login to contact seller  $2199 USD  2017.0  "
      ]
     },
     "execution_count": 19,
     "metadata": {},
     "output_type": "execute_result"
    }
   ],
   "source": [
    "df.head()"
   ]
  },
  {
   "cell_type": "code",
   "execution_count": 20,
   "metadata": {},
   "outputs": [
    {
     "name": "stdout",
     "output_type": "stream",
     "text": [
      "2664.0\n"
     ]
    }
   ],
   "source": [
    "def convert_to_usd(string):\n",
    "    nums = '1234567890'\n",
    "    lst = []\n",
    "    for i in str(string):\n",
    "        if i in nums:\n",
    "            lst.append(i)\n",
    "    try:\n",
    "        price = int(''.join(lst))\n",
    "    except:\n",
    "        return None\n",
    "    if 'CAD' in string:\n",
    "        price = price* .72\n",
    "    return price\n",
    "print(convert_to_usd('$3700 CAD'))"
   ]
  },
  {
   "cell_type": "code",
   "execution_count": 21,
   "metadata": {},
   "outputs": [
    {
     "name": "stderr",
     "output_type": "stream",
     "text": [
      "/home/devin/anaconda3/lib/python3.7/site-packages/ipykernel_launcher.py:1: SettingWithCopyWarning: \n",
      "A value is trying to be set on a copy of a slice from a DataFrame.\n",
      "Try using .loc[row_indexer,col_indexer] = value instead\n",
      "\n",
      "See the caveats in the documentation: https://pandas.pydata.org/pandas-docs/stable/user_guide/indexing.html#returning-a-view-versus-a-copy\n",
      "  \"\"\"Entry point for launching an IPython kernel.\n"
     ]
    }
   ],
   "source": [
    "df['Price Value'] = df['Price'].apply(lambda x: convert_to_usd(x))"
   ]
  },
  {
   "cell_type": "code",
   "execution_count": 22,
   "metadata": {},
   "outputs": [
    {
     "data": {
      "text/plain": [
       "0       1900.0\n",
       "1       3400.0\n",
       "2       2664.0\n",
       "3       1440.0\n",
       "4       2199.0\n",
       "         ...  \n",
       "6915    2100.0\n",
       "7123    2800.0\n",
       "7320    1350.0\n",
       "7332    2664.0\n",
       "7440    5500.0\n",
       "Name: Price Value, Length: 3123, dtype: float64"
      ]
     },
     "execution_count": 22,
     "metadata": {},
     "output_type": "execute_result"
    }
   ],
   "source": [
    "df['Price Value'].fillna(df['Price Value'].mean())"
   ]
  },
  {
   "cell_type": "code",
   "execution_count": 23,
   "metadata": {},
   "outputs": [
    {
     "data": {
      "text/plain": [
       "2923.0908683114408"
      ]
     },
     "execution_count": 23,
     "metadata": {},
     "output_type": "execute_result"
    }
   ],
   "source": [
    "df['Price Value'].mean()"
   ]
  },
  {
   "cell_type": "code",
   "execution_count": 24,
   "metadata": {},
   "outputs": [
    {
     "name": "stdout",
     "output_type": "stream",
     "text": [
      "<class 'pandas.core.frame.DataFrame'>\n",
      "Int64Index: 3123 entries, 0 to 7440\n",
      "Data columns (total 16 columns):\n",
      " #   Column            Non-Null Count  Dtype  \n",
      "---  ------            --------------  -----  \n",
      " 0   Number of photos  3123 non-null   object \n",
      " 1   Year and Model    3123 non-null   object \n",
      " 2   Category          3123 non-null   object \n",
      " 3   Condition         3123 non-null   object \n",
      " 4   Material          3123 non-null   object \n",
      " 5   Frame Size        3123 non-null   object \n",
      " 6   Wheel Size        3123 non-null   float64\n",
      " 7   Front Travel      3123 non-null   object \n",
      " 8   Rear Travel       3123 non-null   object \n",
      " 9   City              3123 non-null   object \n",
      " 10  State/Province    3123 non-null   object \n",
      " 11  Country           3123 non-null   object \n",
      " 12  Seller            3123 non-null   object \n",
      " 13  Price             3122 non-null   object \n",
      " 14  Year              2990 non-null   float64\n",
      " 15  Price Value       3121 non-null   float64\n",
      "dtypes: float64(3), object(13)\n",
      "memory usage: 414.8+ KB\n"
     ]
    }
   ],
   "source": [
    "df.info()"
   ]
  },
  {
   "cell_type": "code",
   "execution_count": 31,
   "metadata": {},
   "outputs": [
    {
     "data": {
      "text/plain": [
       "<matplotlib.axes._subplots.AxesSubplot at 0x7f64eb8daa90>"
      ]
     },
     "execution_count": 31,
     "metadata": {},
     "output_type": "execute_result"
    },
    {
     "data": {
      "image/png": "[encoded data removed]",
      "text/plain": [
       "<Figure size 936x595.44 with 1 Axes>"
      ]
     },
     "metadata": {},
     "output_type": "display_data"
    }
   ],
   "source": [
    "\n",
    "sns.countplot(x = 'Condition', data = df)\n",
    "\n",
    "#sns.set(rc={'figure.figsize':(13,8.27)})"
   ]
  },
  {
   "cell_type": "code",
   "execution_count": 26,
   "metadata": {},
   "outputs": [
    {
     "data": {
      "text/plain": [
       "<matplotlib.axes._subplots.AxesSubplot at 0x7f64f1070a50>"
      ]
     },
     "execution_count": 26,
     "metadata": {},
     "output_type": "execute_result"
    },
    {
     "data": {
      "image/png": "[encoded data removed]",
      "text/plain": [
       "<Figure size 936x595.44 with 1 Axes>"
      ]
     },
     "metadata": {},
     "output_type": "display_data"
    }
   ],
   "source": [
    "sns.distplot(df['Price Value'])"
   ]
  },
  {
   "cell_type": "code",
   "execution_count": 29,
   "metadata": {},
   "outputs": [
    {
     "data": {
      "text/plain": [
       "<matplotlib.axes._subplots.AxesSubplot at 0x7f64ec9b6f90>"
      ]
     },
     "execution_count": 29,
     "metadata": {},
     "output_type": "execute_result"
    },
    {
     "data": {
      "image/png": "[encoded data removed]",
      "text/plain": [
       "<Figure size 936x595.44 with 1 Axes>"
      ]
     },
     "metadata": {},
     "output_type": "display_data"
    }
   ],
   "source": [
    "sns.distplot(df['Front Travel'],kde = False)"
   ]
  },
  {
   "cell_type": "code",
   "execution_count": 55,
   "metadata": {},
   "outputs": [
    {
     "data": {
      "image/png": "[encoded data removed]",
      "text/plain": [
       "<Figure size 720x720 with 3 Axes>"
      ]
     },
     "metadata": {
      "needs_background": "light"
     },
     "output_type": "display_data"
    }
   ],
   "source": [
    "sns.jointplot(x = 'Front Travel', y = 'Rear Travel', data = df, height = 10,ratio = 6)\n",
    "plt.tight_layout()\n",
    "plt.xlim = (100,200)\n",
    "plt.ylim = (100,200)"
   ]
  },
  {
   "cell_type": "code",
   "execution_count": null,
   "metadata": {},
   "outputs": [],
   "source": []
  }
 ],
 "metadata": {
  "kernelspec": {
   "display_name": "Python 3",
   "language": "python",
   "name": "python3"
  },
  "language_info": {
   "codemirror_mode": {
    "name": "ipython",
    "version": 3
   },
   "file_extension": ".py",
   "mimetype": "text/x-python",
   "name": "python",
   "nbconvert_exporter": "python",
   "pygments_lexer": "ipython3",
   "version": "3.7.6"
  }
 },
 "nbformat": 4,
 "nbformat_minor": 4
}
